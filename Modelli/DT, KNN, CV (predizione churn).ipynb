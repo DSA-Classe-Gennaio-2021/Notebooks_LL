{
 "cells": [
  {
   "cell_type": "code",
   "execution_count": null,
   "metadata": {},
   "outputs": [],
   "source": [
    "import pandas as pd\n",
    "import numpy as np\n",
    "import matplotlib.pyplot as plt\n",
    "import seaborn as sns\n",
    "import graphviz\n",
    "import itertools\n",
    "import random \n",
    "import sklearn\n",
    "\n",
    "\n",
    "from sklearn import linear_model, tree, ensemble\n"
   ]
  },
  {
   "cell_type": "code",
   "execution_count": null,
   "metadata": {
    "scrolled": true
   },
   "outputs": [],
   "source": [
    "df = pd.read_csv('train.csv')\n",
    "df.tail()"
   ]
  },
  {
   "cell_type": "code",
   "execution_count": null,
   "metadata": {},
   "outputs": [],
   "source": [
    "#droppare dati vuoti df.dropna() ma non ce ne sono\n",
    "df.dropna()\n",
    "df.index.size"
   ]
  },
  {
   "cell_type": "code",
   "execution_count": null,
   "metadata": {},
   "outputs": [],
   "source": [
    "df['churn'].hist();"
   ]
  },
  {
   "cell_type": "code",
   "execution_count": null,
   "metadata": {},
   "outputs": [],
   "source": [
    "df[df['churn'] == ('yes')]['churn'].count()"
   ]
  },
  {
   "cell_type": "code",
   "execution_count": null,
   "metadata": {},
   "outputs": [],
   "source": [
    "df[df['churn'] == ('no')]['churn'].count()"
   ]
  },
  {
   "cell_type": "code",
   "execution_count": null,
   "metadata": {},
   "outputs": [],
   "source": [
    "df['number_customer_service_calls'].hist();"
   ]
  },
  {
   "cell_type": "code",
   "execution_count": null,
   "metadata": {
    "scrolled": true
   },
   "outputs": [],
   "source": [
    "df['number_vmail_messages'].hist();"
   ]
  },
  {
   "cell_type": "code",
   "execution_count": null,
   "metadata": {},
   "outputs": [],
   "source": [
    "cyn = df[df['churn'] == 'yes']\n",
    "cyn.groupby('state').size().plot(kind = 'bar', figsize=(20,10));"
   ]
  },
  {
   "cell_type": "code",
   "execution_count": null,
   "metadata": {},
   "outputs": [],
   "source": [
    "(df.groupby(['state','churn'])['churn'].size() / df.groupby(['state']).size()).plot(kind = 'bar', figsize=(20,10));"
   ]
  },
  {
   "cell_type": "code",
   "execution_count": null,
   "metadata": {},
   "outputs": [],
   "source": [
    "plt.figure(figsize=(12,10))\n",
    "cor = df.corr()\n",
    "sns.heatmap(cor, annot=True, cmap=plt.cm.Reds)\n",
    "plt.show();"
   ]
  },
  {
   "cell_type": "code",
   "execution_count": null,
   "metadata": {
    "scrolled": false
   },
   "outputs": [],
   "source": [
    "df[['total_day_charge', 'total_eve_charge', 'total_night_charge']].sum().plot(kind='bar');"
   ]
  },
  {
   "cell_type": "code",
   "execution_count": null,
   "metadata": {},
   "outputs": [],
   "source": [
    "df1 = df.drop(['state', 'area_code',\n",
    "               'total_day_calls','total_eve_calls','total_night_calls',\n",
    "               'total_day_minutes','total_eve_minutes','total_night_minutes',\n",
    "               'total_day_charge','total_eve_charge','total_night_charge',\n",
    "               'total_intl_calls','total_intl_minutes','total_intl_charge'], axis=1,)\n",
    "df1"
   ]
  },
  {
   "cell_type": "code",
   "execution_count": null,
   "metadata": {},
   "outputs": [],
   "source": [
    "df1['total_call'] = df['total_day_calls'] + df['total_eve_calls'] + df['total_night_calls']\n",
    "df1['total_minutes'] = df['total_day_minutes'] + df['total_eve_minutes'] + df['total_night_minutes']\n",
    "df1['total_charge'] = df['total_day_charge'] + df['total_eve_charge'] + df['total_night_charge']\n",
    "df1['total_intl'] = df['total_intl_calls'] + df['total_intl_minutes'] + df['total_intl_charge']\n",
    "df1"
   ]
  },
  {
   "cell_type": "code",
   "execution_count": null,
   "metadata": {},
   "outputs": [],
   "source": [
    "plt.figure(figsize=(12,10))\n",
    "cor = df1.corr()\n",
    "sns.heatmap(cor, annot=True, cmap=plt.cm.Reds)\n",
    "plt.show()"
   ]
  },
  {
   "cell_type": "code",
   "execution_count": null,
   "metadata": {},
   "outputs": [],
   "source": [
    "#Provo a trovare score DT e poi CV per uno score migliore"
   ]
  },
  {
   "cell_type": "code",
   "execution_count": null,
   "metadata": {},
   "outputs": [],
   "source": [
    "#encoding variabili categoriche\n",
    "\n",
    "from sklearn.preprocessing import OrdinalEncoder\n",
    "\n",
    "ord_enc = OrdinalEncoder()\n",
    "df1[\"international_plan\"] = ord_enc.fit_transform(df1[[\"international_plan\"]])\n",
    "df1[\"voice_mail_plan\"] = ord_enc.fit_transform(df1[[\"voice_mail_plan\"]])\n",
    "df1[\"churn\"] = ord_enc.fit_transform(df1[[\"churn\"]])"
   ]
  },
  {
   "cell_type": "code",
   "execution_count": null,
   "metadata": {},
   "outputs": [],
   "source": [
    "#selezione colonne per train modello\n",
    "\n",
    "X = df1[['international_plan','voice_mail_plan','number_customer_service_calls', 'account_length']] #Two-dimensional (pd DataFrame)\n",
    "y = df1['churn'] #One-dimensional (pd Series)"
   ]
  },
  {
   "cell_type": "code",
   "execution_count": null,
   "metadata": {},
   "outputs": [],
   "source": [
    "#train_test_split() di sklearn.model_selection splitta il df in due parti (in questo caso train e test da 80%20%)\n",
    "\n",
    "from sklearn.model_selection import train_test_split\n",
    "\n",
    "X_train, X_test, y_train, y_test = train_test_split(X, y, test_size=0.20,\n",
    "                                                    random_state=1,\n",
    "                                                    shuffle=True)"
   ]
  },
  {
   "cell_type": "code",
   "execution_count": null,
   "metadata": {},
   "outputs": [],
   "source": [
    "#modello decision tree, fit + score\n",
    "\n",
    "from sklearn.tree import DecisionTreeClassifier\n",
    "\n",
    "#modello \n",
    "dtc1 = DecisionTreeClassifier(max_depth=3,\n",
    "                              random_state=1)\n",
    "\n",
    "# fit()\n",
    "dtc1.fit(X_train, y_train)\n",
    "\n",
    "#.score() del tree ritorna 'the mean accuracy on the given test data and labels'\n",
    "dtc1.score(X_train, y_train)"
   ]
  },
  {
   "cell_type": "code",
   "execution_count": null,
   "metadata": {},
   "outputs": [],
   "source": [
    "#grafico del tree \n",
    "\n",
    "plt.figure(figsize=(15,10))\n",
    "tree.plot_tree(dtc1);"
   ]
  },
  {
   "cell_type": "code",
   "execution_count": null,
   "metadata": {},
   "outputs": [],
   "source": [
    "#creazione pdf con grafico del tree\n",
    "\n",
    "from sklearn.tree import export_graphviz\n",
    "\n",
    "dot_data = export_graphviz(dtc1,\n",
    "                           feature_names=['international_plan','voice_mail_plan','number_customer_service_calls', 'account_length'],\n",
    "                           filled=True,\n",
    "                           rounded=True)\n",
    "\n",
    "graph = graphviz.Source(dot_data)\n",
    "graph.render(\"tree\")"
   ]
  },
  {
   "cell_type": "code",
   "execution_count": null,
   "metadata": {
    "scrolled": true
   },
   "outputs": [],
   "source": [
    "#GridSearch() di sklearn.model_selection aiuta a capire gli iperparametri\n",
    "\n",
    "from sklearn.model_selection import GridSearchCV\n",
    "\n",
    "gs = GridSearchCV(dtc1,\n",
    "                  param_grid = {'max_depth': range(1, 10),                #prova con max_depth dell'albero da 1 a 10\n",
    "                                'min_samples_split': range(10, 60, 10)},  #divide il df in parti da 10 a 60 con intervalli di 10\n",
    "                  cv=5,\n",
    "                  n_jobs=1,\n",
    "                  scoring='accuracy') # come scoring uso errore 'accuracy' che è relativo ad un algoritmo classificatore'\n",
    "\n",
    "gs.fit(X_train, y_train)\n",
    "\n",
    "print(gs.best_params_)\n",
    "print(gs.best_score_)"
   ]
  },
  {
   "cell_type": "code",
   "execution_count": null,
   "metadata": {},
   "outputs": [],
   "source": [
    "#riassegno l'iperparametro 'max_depth' dopo averlo migliorato con GridSearchCV()\n",
    "\n",
    "dtc1 =  DecisionTreeClassifier(max_depth=8,\n",
    "                               random_state=1)"
   ]
  },
  {
   "cell_type": "code",
   "execution_count": null,
   "metadata": {},
   "outputs": [],
   "source": [
    "#KFold() per splittare il df in 5 e usare 4 parti come training e 1 come test per 5 volte\n",
    "#in modo da usare ogni parte come test almeno 1 volta\n",
    "\n",
    "from sklearn.model_selection import KFold\n",
    "\n",
    "kf =KFold(n_splits=5,\n",
    "          shuffle=True,\n",
    "          random_state=42)\n",
    "\n",
    "#split()  method generate indices to split data into training and test set\n",
    "\n",
    "cnt = 1\n",
    "for train_index, test_index in kf.split(X_train, y_train):\n",
    "    print(f'Fold:{cnt}, Train set: {len(train_index)}, Test set:{len(test_index)}')\n",
    "    cnt += 1"
   ]
  },
  {
   "cell_type": "code",
   "execution_count": null,
   "metadata": {},
   "outputs": [],
   "source": [
    "#cross validation del decision tree sul df\n",
    "\n",
    "from sklearn.model_selection import cross_val_score\n",
    "\n",
    "cv_score_dtc = cross_val_score(dtc1,\n",
    "                               X_train,\n",
    "                               y_train,\n",
    "                               cv = kf,\n",
    "                               scoring=\"accuracy\")\n",
    "\n",
    "\n",
    "print(f'Scores for each fold are: {cv_score_dtc}')\n",
    "print(f'Average score: {\"{:.2f}\".format(cv_score_dtc.mean())}')"
   ]
  },
  {
   "cell_type": "code",
   "execution_count": null,
   "metadata": {},
   "outputs": [],
   "source": [
    "#Provo a trovare score KNN e poi CV per uno score migliore"
   ]
  },
  {
   "cell_type": "code",
   "execution_count": null,
   "metadata": {},
   "outputs": [],
   "source": [
    "from sklearn.neighbors import KNeighborsClassifier\n",
    "\n",
    "knc = KNeighborsClassifier(n_neighbors = 3)\n",
    "\n",
    "#fit()\n",
    "knc.fit(X_train, y_train)\n",
    "\n",
    "#.score() ritorna 'the mean accuracy on the given test data and labels'\n",
    "knc.score(X_train, y_train) "
   ]
  },
  {
   "cell_type": "code",
   "execution_count": null,
   "metadata": {
    "scrolled": false
   },
   "outputs": [],
   "source": [
    "#valutazione miglior iperparametro n_neighbors\n",
    "\n",
    "IP = []\n",
    "for i in range(1, 50):\n",
    "    knn = KNeighborsClassifier(n_neighbors=i)\n",
    "    knn.fit(X_train, y_train)\n",
    "    s = knn.score(X_train, y_train)\n",
    "    IP.append({'best n' : i,\n",
    "               'score': s})\n",
    "\n",
    "IP = pd.DataFrame(IP)\n",
    "IP.sort_values('score').tail(1)  #valore suggerito di n_neighbors"
   ]
  },
  {
   "cell_type": "code",
   "execution_count": null,
   "metadata": {},
   "outputs": [],
   "source": [
    "#riassegno l'iperparametro n_neighbors dopo averlo migliorato il loop \n",
    "\n",
    "knc = KNeighborsClassifier(n_neighbors = 1)"
   ]
  },
  {
   "cell_type": "code",
   "execution_count": null,
   "metadata": {},
   "outputs": [],
   "source": [
    "#cross validation del knn sul df\n",
    "cv_score_knn = cross_val_score(knc,\n",
    "                               X_train,\n",
    "                               y_train,\n",
    "                               cv = kf,\n",
    "                               scoring=\"accuracy\")\n",
    "\n",
    "\n",
    "print(f'Scores for each fold are: {cv_score_knn}')\n",
    "print(f'Average score: {\"{:.2f}\".format(cv_score_knn.mean())}')"
   ]
  },
  {
   "cell_type": "code",
   "execution_count": null,
   "metadata": {},
   "outputs": [],
   "source": [
    "#faccio il fit dell'intero df usando il DECISION TREE CLASSIFIER come algoritmo\n",
    "#dato che la media delle 'accuracy' del cross validation è più alta di quella trovata con il KNN"
   ]
  },
  {
   "cell_type": "code",
   "execution_count": null,
   "metadata": {},
   "outputs": [],
   "source": [
    "#X_train, y_train per predire X_test\n",
    "\n",
    "dtc_finale = DecisionTreeClassifier(max_depth=8,\n",
    "                                    random_state=1)\n",
    "dtc_finale.fit(X_train, y_train)\n",
    "\n",
    "dtc_finale.predict(X_test)"
   ]
  },
  {
   "cell_type": "code",
   "execution_count": null,
   "metadata": {
    "scrolled": true
   },
   "outputs": [],
   "source": [
    "#X, y per predire il file con nuovi dati\n",
    "\n",
    "dtc_finale2 = DecisionTreeClassifier(max_depth=8,\n",
    "                                    random_state=1)\n",
    "\n",
    "dtc_finale2.fit(X, y)\n",
    "\n",
    "test = pd.read_csv('test.csv')\n",
    "test.head()"
   ]
  },
  {
   "cell_type": "code",
   "execution_count": null,
   "metadata": {},
   "outputs": [],
   "source": [
    "#riassegnazione nuove variabili\n",
    "ord_enc = OrdinalEncoder()\n",
    "test[\"international_plan\"] = ord_enc.fit_transform(test[[\"international_plan\"]])\n",
    "test[\"voice_mail_plan\"] = ord_enc.fit_transform(test[[\"voice_mail_plan\"]])\n",
    "\n",
    "Xf = test[['international_plan','voice_mail_plan','number_customer_service_calls','account_length']]\n"
   ]
  },
  {
   "cell_type": "code",
   "execution_count": null,
   "metadata": {},
   "outputs": [],
   "source": [
    "dtc_finale2.predict(Xf)"
   ]
  },
  {
   "cell_type": "code",
   "execution_count": null,
   "metadata": {},
   "outputs": [],
   "source": []
  }
 ],
 "metadata": {
  "celltoolbar": "Raw Cell Format",
  "kernelspec": {
   "display_name": "Python 3",
   "language": "python",
   "name": "python3"
  },
  "language_info": {
   "codemirror_mode": {
    "name": "ipython",
    "version": 3
   },
   "file_extension": ".py",
   "mimetype": "text/x-python",
   "name": "python",
   "nbconvert_exporter": "python",
   "pygments_lexer": "ipython3",
   "version": "3.8.5"
  }
 },
 "nbformat": 4,
 "nbformat_minor": 4
}
